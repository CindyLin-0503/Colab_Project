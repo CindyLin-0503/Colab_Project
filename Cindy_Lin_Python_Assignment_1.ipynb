{
  "nbformat": 4,
  "nbformat_minor": 0,
  "metadata": {
    "colab": {
      "provenance": [],
      "authorship_tag": "ABX9TyO2eGBHpg+IXQZzWfY/y5H2",
      "include_colab_link": true
    },
    "kernelspec": {
      "name": "python3",
      "display_name": "Python 3"
    },
    "language_info": {
      "name": "python"
    }
  },
  "cells": [
    {
      "cell_type": "markdown",
      "metadata": {
        "id": "view-in-github",
        "colab_type": "text"
      },
      "source": [
        "<a href=\"https://colab.research.google.com/github/CindyLin-0503/Colab_Project/blob/main/Cindy_Lin_Python_Assignment_1.ipynb\" target=\"_parent\"><img src=\"https://colab.research.google.com/assets/colab-badge.svg\" alt=\"Open In Colab\"/></a>"
      ]
    },
    {
      "cell_type": "code",
      "execution_count": null,
      "metadata": {
        "colab": {
          "base_uri": "https://localhost:8080/"
        },
        "id": "cA7mlVsNa9aA",
        "outputId": "c08a574c-5313-4aee-fb7a-5df78203aa6d"
      },
      "outputs": [
        {
          "output_type": "stream",
          "name": "stdout",
          "text": [
            "Hello, Linguistics\n"
          ]
        }
      ],
      "source": [
        "print(\"Hello, Linguistics\")"
      ]
    },
    {
      "cell_type": "code",
      "source": [
        "text=\"Hello, Linguistics\"\n",
        "new_text= text.lower()\n",
        "print(new_text)"
      ],
      "metadata": {
        "colab": {
          "base_uri": "https://localhost:8080/"
        },
        "id": "jOBSaRXycqV9",
        "outputId": "4c2fd3d7-c6e0-4c13-8c65-0ad9385f2b2c"
      },
      "execution_count": null,
      "outputs": [
        {
          "output_type": "stream",
          "name": "stdout",
          "text": [
            "hello, linguistics\n"
          ]
        }
      ]
    },
    {
      "cell_type": "code",
      "source": [
        "num=[3, 5, 1, 4, 2]\n",
        "print(num [0])\n",
        "print(num [4])"
      ],
      "metadata": {
        "colab": {
          "base_uri": "https://localhost:8080/"
        },
        "id": "C_WSO3TDdCxB",
        "outputId": "73bac04e-2189-4537-d729-97613a23a7db"
      },
      "execution_count": null,
      "outputs": [
        {
          "output_type": "stream",
          "name": "stdout",
          "text": [
            "3\n",
            "2\n"
          ]
        }
      ]
    },
    {
      "cell_type": "code",
      "source": [
        "animals_1=[\"Dog\",\"Cat\",\"Bird\",\"Tiger\",\"Elephant\"]\n",
        "animals_2=[\"Dog\"]\n",
        "\n",
        "if(len(animals_2)>2):\n",
        "  print(\"yes\")\n",
        "else:\n",
        "  print(\"no\")"
      ],
      "metadata": {
        "colab": {
          "base_uri": "https://localhost:8080/"
        },
        "id": "21R9RyhnfVF1",
        "outputId": "f3f3caa8-29e7-4674-adb2-fd22b9617caf"
      },
      "execution_count": null,
      "outputs": [
        {
          "output_type": "stream",
          "name": "stdout",
          "text": [
            "no\n"
          ]
        }
      ]
    }
  ]
}