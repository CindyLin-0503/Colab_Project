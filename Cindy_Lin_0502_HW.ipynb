{
  "nbformat": 4,
  "nbformat_minor": 0,
  "metadata": {
    "colab": {
      "provenance": [],
      "authorship_tag": "ABX9TyM2efwCMKfdKiyTiqZQbUyC",
      "include_colab_link": true
    },
    "kernelspec": {
      "name": "python3",
      "display_name": "Python 3"
    },
    "language_info": {
      "name": "python"
    }
  },
  "cells": [
    {
      "cell_type": "markdown",
      "metadata": {
        "id": "view-in-github",
        "colab_type": "text"
      },
      "source": [
        "<a href=\"https://colab.research.google.com/github/CindyLin-0503/Colab_Project/blob/main/Cindy_Lin_0502_HW.ipynb\" target=\"_parent\"><img src=\"https://colab.research.google.com/assets/colab-badge.svg\" alt=\"Open In Colab\"/></a>"
      ]
    },
    {
      "cell_type": "code",
      "source": [
        "sent= \"Today is a good day!\"\n",
        "new_sent_upper=sent.upper()\n",
        "new_sent_lower=sent.lower()\n",
        "print(len(sent))\n",
        "print(new_sent_upper)\n",
        "print(new_sent_lower)"
      ],
      "metadata": {
        "colab": {
          "base_uri": "https://localhost:8080/"
        },
        "id": "zhr_1k9-Aidt",
        "outputId": "2b57025d-d1a1-4b8e-80ad-5971d3ea63d0"
      },
      "execution_count": null,
      "outputs": [
        {
          "output_type": "stream",
          "name": "stdout",
          "text": [
            "20\n",
            "TODAY IS A GOOD DAY!\n",
            "today is a good day!\n"
          ]
        }
      ]
    },
    {
      "cell_type": "code",
      "source": [
        "string_1 = \"Taipei\"\n",
        "string_2 = \"Los Angeles\"\n",
        "print(f\"Let's go to {string_1}. It's a beautiful city.\")\n",
        "print(f\"Let's go to {string_1} and {string_2}. They are beautiful cities.\")"
      ],
      "metadata": {
        "colab": {
          "base_uri": "https://localhost:8080/"
        },
        "id": "BlvwLJsMDk1u",
        "outputId": "19b6aca6-f05a-4227-e2fb-e89d9b6507cd"
      },
      "execution_count": null,
      "outputs": [
        {
          "output_type": "stream",
          "name": "stdout",
          "text": [
            "Let's go to Taipei. It's a beautiful city.\n",
            "Let's go to Taipei and Los Angeles. They are beautiful cities.\n"
          ]
        }
      ]
    },
    {
      "cell_type": "code",
      "source": [
        "def wordDetect(s):\n",
        "\n",
        "    if s==s.lower():\n",
        "       print(\"lower\")\n",
        "    elif s==s.upper():\n",
        "       print(\"upper\")\n",
        "    else:\n",
        "       print(\"mixed\")\n",
        "string_text=\"HELLO\"\n",
        "wordDetect(string_text)"
      ],
      "metadata": {
        "colab": {
          "base_uri": "https://localhost:8080/"
        },
        "id": "tqBrLkmFN5A8",
        "outputId": "fbcc07c9-6284-4e49-e66c-5a6fd76dd19c"
      },
      "execution_count": null,
      "outputs": [
        {
          "output_type": "stream",
          "name": "stdout",
          "text": [
            "upper\n"
          ]
        }
      ]
    }
  ]
}